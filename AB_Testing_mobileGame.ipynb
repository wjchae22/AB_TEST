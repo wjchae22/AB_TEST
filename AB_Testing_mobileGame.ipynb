{
 "cells": [
  {
   "cell_type": "markdown",
   "metadata": {},
   "source": [
    "### 데이터 빠른 살펴보기:\n",
    "Cookie Cats는 Tactile Entertainment에서 개발한 매우 인기 있는 모바일 퍼즐 게임입니다. 이는 클래식한 \"세 개 연결\" 스타일의 퍼즐 게임으로, 플레이어는 같은 색상의 타일을 연결해 보드를 지워야하며 레벨을 이기게 됩니다. 플레이어들이 게임을 진행하면서 게이트를 만나게 되는데, 이 때 플레이어는 게임을 계속 진행하기 위해 일정 시간 동안 기다리거나 인앱 결제를 해야 합니다.\n",
    "\n"
   ]
  },
  {
   "cell_type": "markdown",
   "metadata": {},
   "source": [
    "### 데이터 탐구:\n",
    "\n",
    "- userid: 각 플레이어를 식별하는 고유 번호입니다.\n",
    "- version: 플레이어가 gate_30(A) 또는 gate_40(B) 중 어디에 배정되었는지를 나타냅니다.\n",
    "- sum_gamerounds: 플레이어가 설치 후 첫 주 동안에 플레이한 게임 라운드의 횟수입니다.\n",
    "- retention_1: 플레이어가 설치한 후 1일 동안 게임을 다시 플레이했는지 여부입니다.\n",
    "- retention_7: 플레이어가 설치한 후 7일 동안 게임을 다시 플레이했는지 여부입니다.\n",
    "\n",
    "\n",
    "플레이어가 게임을 설치하면, 그들은 무작위로 gate_30 또는 gate_40 중 하나에 배정되었습니다. 이 프로젝트에서는 Cookie Cats의 첫 번째 게이트가 레벨 30에서 레벨 40으로 옮겨진 것에 대한 A/B 테스트 결과를 분석하게 됩니다."
   ]
  },
  {
   "cell_type": "code",
   "execution_count": 1,
   "metadata": {},
   "outputs": [],
   "source": [
    "import pandas as pd \n",
    "import numpy as np\n",
    "import seaborn as sns\n",
    "import matplotlib.pyplot as plt\n",
    "from scipy.stats import shapiro, levene, ttest_ind, mannwhitneyu\n",
    "\n",
    "import warnings\n",
    "warnings.filterwarnings(\"ignore\")\n",
    "warnings.simplefilter(action='ignore', category=FutureWarning)"
   ]
  },
  {
   "cell_type": "code",
   "execution_count": 30,
   "metadata": {},
   "outputs": [
    {
     "data": {
      "text/html": [
       "<div>\n",
       "<style scoped>\n",
       "    .dataframe tbody tr th:only-of-type {\n",
       "        vertical-align: middle;\n",
       "    }\n",
       "\n",
       "    .dataframe tbody tr th {\n",
       "        vertical-align: top;\n",
       "    }\n",
       "\n",
       "    .dataframe thead th {\n",
       "        text-align: right;\n",
       "    }\n",
       "</style>\n",
       "<table border=\"1\" class=\"dataframe\">\n",
       "  <thead>\n",
       "    <tr style=\"text-align: right;\">\n",
       "      <th></th>\n",
       "      <th>userid</th>\n",
       "      <th>version</th>\n",
       "      <th>sum_gamerounds</th>\n",
       "      <th>retention_1</th>\n",
       "      <th>retention_7</th>\n",
       "    </tr>\n",
       "  </thead>\n",
       "  <tbody>\n",
       "    <tr>\n",
       "      <th>0</th>\n",
       "      <td>116</td>\n",
       "      <td>gate_30</td>\n",
       "      <td>3</td>\n",
       "      <td>False</td>\n",
       "      <td>False</td>\n",
       "    </tr>\n",
       "    <tr>\n",
       "      <th>1</th>\n",
       "      <td>337</td>\n",
       "      <td>gate_30</td>\n",
       "      <td>38</td>\n",
       "      <td>True</td>\n",
       "      <td>False</td>\n",
       "    </tr>\n",
       "    <tr>\n",
       "      <th>2</th>\n",
       "      <td>377</td>\n",
       "      <td>gate_40</td>\n",
       "      <td>165</td>\n",
       "      <td>True</td>\n",
       "      <td>False</td>\n",
       "    </tr>\n",
       "    <tr>\n",
       "      <th>3</th>\n",
       "      <td>483</td>\n",
       "      <td>gate_40</td>\n",
       "      <td>1</td>\n",
       "      <td>False</td>\n",
       "      <td>False</td>\n",
       "    </tr>\n",
       "    <tr>\n",
       "      <th>4</th>\n",
       "      <td>488</td>\n",
       "      <td>gate_40</td>\n",
       "      <td>179</td>\n",
       "      <td>True</td>\n",
       "      <td>True</td>\n",
       "    </tr>\n",
       "  </tbody>\n",
       "</table>\n",
       "</div>"
      ],
      "text/plain": [
       "   userid  version  sum_gamerounds  retention_1  retention_7\n",
       "0     116  gate_30               3        False        False\n",
       "1     337  gate_30              38         True        False\n",
       "2     377  gate_40             165         True        False\n",
       "3     483  gate_40               1        False        False\n",
       "4     488  gate_40             179         True         True"
      ]
     },
     "execution_count": 30,
     "metadata": {},
     "output_type": "execute_result"
    }
   ],
   "source": [
    "df = pd.read_csv(\"cookie_cats.csv\")\n",
    "df.head()"
   ]
  },
  {
   "cell_type": "code",
   "execution_count": 31,
   "metadata": {},
   "outputs": [
    {
     "name": "stdout",
     "output_type": "stream",
     "text": [
      "\u001b[1m********** SHAPE **********\u001b[0m\n",
      "Rows:90189\n",
      "Columns:5\n",
      "\u001b[1m********** TYPES **********\u001b[0m\n",
      "userid             int64\n",
      "version           object\n",
      "sum_gamerounds     int64\n",
      "retention_1         bool\n",
      "retention_7         bool\n",
      "dtype: object\n",
      "\u001b[1m********** HEAD **********\u001b[0m\n",
      "   userid  version  sum_gamerounds  retention_1  retention_7\n",
      "0     116  gate_30               3        False        False\n",
      "1     337  gate_30              38         True        False\n",
      "2     377  gate_40             165         True        False\n",
      "3     483  gate_40               1        False        False\n",
      "4     488  gate_40             179         True         True\n",
      "5     540  gate_40             187         True         True\n",
      "6    1066  gate_30               0        False        False\n",
      "7    1444  gate_40               2        False        False\n",
      "8    1574  gate_40             108         True         True\n",
      "9    1587  gate_40             153         True        False\n",
      "\u001b[1m********** TAIL **********\u001b[0m\n",
      "        userid  version  sum_gamerounds  retention_1  retention_7\n",
      "90179  9998576  gate_30              14         True        False\n",
      "90180  9998623  gate_30               7        False        False\n",
      "90181  9998733  gate_40              10         True        False\n",
      "90182  9999178  gate_30              21         True        False\n",
      "90183  9999349  gate_30              10        False        False\n",
      "90184  9999441  gate_40              97         True        False\n",
      "90185  9999479  gate_40              30        False        False\n",
      "90186  9999710  gate_30              28         True        False\n",
      "90187  9999768  gate_40              51         True        False\n",
      "90188  9999861  gate_40              16        False        False\n",
      "\u001b[1m********** COLUMNS **********\u001b[0m\n",
      "Index(['userid', 'version', 'sum_gamerounds', 'retention_1', 'retention_7'], dtype='object')\n",
      "\u001b[1m********** NUNIQUE ELEMENTS **********\u001b[0m\n",
      "userid            90189\n",
      "version               2\n",
      "sum_gamerounds      942\n",
      "retention_1           2\n",
      "retention_7           2\n",
      "dtype: int64\n",
      "\u001b[1m********** NA **********\u001b[0m\n",
      "userid            0\n",
      "version           0\n",
      "sum_gamerounds    0\n",
      "retention_1       0\n",
      "retention_7       0\n",
      "dtype: int64\n",
      "\u001b[1m********** DESCRIBE **********\u001b[0m\n",
      "                  count          mean           std    min        25%  \\\n",
      "userid          90189.0  4.998412e+06  2.883286e+06  116.0  2512230.0   \n",
      "sum_gamerounds  90189.0  5.187246e+01  1.950509e+02    0.0        5.0   \n",
      "\n",
      "                      50%        75%        max  \n",
      "userid          4995815.0  7496452.0  9999861.0  \n",
      "sum_gamerounds       16.0       51.0    49854.0  \n"
     ]
    }
   ],
   "source": [
    "#I write a function to summarize the general information about the dataset.\n",
    "def check_df(dataframe, head=10):\n",
    "    print('\\033[1m' + 10*\"*\" + ' SHAPE ' + 10*\"*\" + '\\033[0m')\n",
    "    print(f\"Rows:{dataframe.shape[0]}\")\n",
    "    print(f\"Columns:{dataframe.shape[1]}\")\n",
    "\n",
    "    print('\\033[1m' + 10*\"*\" + ' TYPES ' + 10*\"*\" + '\\033[0m')\n",
    "    print(dataframe.dtypes)\n",
    "\n",
    "    print('\\033[1m' + 10*\"*\" + ' HEAD ' + 10*\"*\" + '\\033[0m')\n",
    "    print(dataframe.head(head))\n",
    "\n",
    "    print('\\033[1m' + 10*\"*\" + ' TAIL ' + 10*\"*\" + '\\033[0m')\n",
    "    print(dataframe.tail(head))\n",
    "\n",
    "    print('\\033[1m' + 10*\"*\" + ' COLUMNS ' + 10*\"*\" + '\\033[0m')\n",
    "    print(dataframe.columns)\n",
    "\n",
    "    print('\\033[1m' + 10*\"*\" + ' NUNIQUE ELEMENTS ' + 10*\"*\" + '\\033[0m')\n",
    "    print(dataframe.nunique())\n",
    "    print('\\033[1m' + 10*\"*\" + ' NA ' + 10*\"*\" + '\\033[0m')\n",
    "    print(dataframe.isnull().sum())\n",
    "\n",
    "    print('\\033[1m' + 10*\"*\" + ' DESCRIBE ' + 10*\"*\" + '\\033[0m')\n",
    "    print(dataframe.describe().T)\n",
    "    \n",
    "check_df(df,10)"
   ]
  },
  {
   "cell_type": "code",
   "execution_count": 32,
   "metadata": {},
   "outputs": [
    {
     "data": {
      "text/plain": [
       "<AxesSubplot:xlabel='version', ylabel='count'>"
      ]
     },
     "execution_count": 32,
     "metadata": {},
     "output_type": "execute_result"
    },
    {
     "data": {
      "image/png": "[encoded data removed]",
      "text/plain": [
       "<Figure size 432x288 with 1 Axes>"
      ]
     },
     "metadata": {
      "needs_background": "light"
     },
     "output_type": "display_data"
    }
   ],
   "source": [
    "#Let's see the graph for better understanding.\n",
    "df.groupby(\"version\")[\"userid\"].count()\n",
    "sns.countplot(x=\"version\",data=df)"
   ]
  },
  {
   "cell_type": "code",
   "execution_count": 33,
   "metadata": {},
   "outputs": [
    {
     "data": {
      "text/html": [
       "<div>\n",
       "<style scoped>\n",
       "    .dataframe tbody tr th:only-of-type {\n",
       "        vertical-align: middle;\n",
       "    }\n",
       "\n",
       "    .dataframe tbody tr th {\n",
       "        vertical-align: top;\n",
       "    }\n",
       "\n",
       "    .dataframe thead tr th {\n",
       "        text-align: left;\n",
       "    }\n",
       "</style>\n",
       "<table border=\"1\" class=\"dataframe\">\n",
       "  <thead>\n",
       "    <tr>\n",
       "      <th></th>\n",
       "      <th>version</th>\n",
       "      <th colspan=\"2\" halign=\"left\">sum_gamerounds</th>\n",
       "    </tr>\n",
       "    <tr>\n",
       "      <th></th>\n",
       "      <th></th>\n",
       "      <th>count</th>\n",
       "      <th>mean</th>\n",
       "    </tr>\n",
       "  </thead>\n",
       "  <tbody>\n",
       "    <tr>\n",
       "      <th>0</th>\n",
       "      <td>gate_30</td>\n",
       "      <td>44700</td>\n",
       "      <td>52.456264</td>\n",
       "    </tr>\n",
       "    <tr>\n",
       "      <th>1</th>\n",
       "      <td>gate_40</td>\n",
       "      <td>45489</td>\n",
       "      <td>51.298776</td>\n",
       "    </tr>\n",
       "  </tbody>\n",
       "</table>\n",
       "</div>"
      ],
      "text/plain": [
       "   version sum_gamerounds           \n",
       "                    count       mean\n",
       "0  gate_30          44700  52.456264\n",
       "1  gate_40          45489  51.298776"
      ]
     },
     "execution_count": 33,
     "metadata": {},
     "output_type": "execute_result"
    }
   ],
   "source": [
    "df.groupby('version').agg({\"sum_gamerounds\": [\"count\", \"mean\"]}).reset_index()"
   ]
  },
  {
   "cell_type": "code",
   "execution_count": 34,
   "metadata": {},
   "outputs": [
    {
     "data": {
      "text/plain": [
       "Text(0, 0.5, 'Mean of gamerounds')"
      ]
     },
     "execution_count": 34,
     "metadata": {},
     "output_type": "execute_result"
    },
    {
     "data": {
      "image/png": "[encoded data removed]",
      "text/plain": [
       "<Figure size 432x288 with 1 Axes>"
      ]
     },
     "metadata": {
      "needs_background": "light"
     },
     "output_type": "display_data"
    }
   ],
   "source": [
    "df.groupby(\"version\")[\"sum_gamerounds\"].mean()\n",
    "df.groupby(\"version\")[\"sum_gamerounds\"].mean().plot(kind=\"bar\", color=[ \"salmon\", \"yellowgreen\"])\n",
    "\n",
    "plt.ylabel(\"Mean of gamerounds\")"
   ]
  },
  {
   "cell_type": "markdown",
   "metadata": {},
   "source": [
    "### Outliers \n",
    "데이터셋에 이상치(아웃라이어) 값이 있을 경우, 그 값은 통계 계산에 영향을 주기 때문에 일반적으로 이러한 값을 제거하는 것이 옳다."
   ]
  },
  {
   "cell_type": "code",
   "execution_count": 35,
   "metadata": {},
   "outputs": [
    {
     "data": {
      "text/plain": [
       "count    90189.000000\n",
       "mean        51.872457\n",
       "std        195.050858\n",
       "min          0.000000\n",
       "25%          5.000000\n",
       "50%         16.000000\n",
       "75%         51.000000\n",
       "max      49854.000000\n",
       "Name: sum_gamerounds, dtype: float64"
      ]
     },
     "execution_count": 35,
     "metadata": {},
     "output_type": "execute_result"
    }
   ],
   "source": [
    "#Before the outlier value\n",
    "df.sum_gamerounds.describe()"
   ]
  },
  {
   "cell_type": "code",
   "execution_count": 36,
   "metadata": {},
   "outputs": [
    {
     "data": {
      "text/plain": [
       "<AxesSubplot:xlabel='version', ylabel='sum_gamerounds'>"
      ]
     },
     "execution_count": 36,
     "metadata": {},
     "output_type": "execute_result"
    },
    {
     "data": {
      "image/png": "[encoded data removed]",
      "text/plain": [
       "<Figure size 432x288 with 1 Axes>"
      ]
     },
     "metadata": {
      "needs_background": "light"
     },
     "output_type": "display_data"
    }
   ],
   "source": [
    "#There is a outlier value in \"gate_30\".\n",
    "sns.boxplot(data=df, x=\"version\", y=\"sum_gamerounds\", flierprops={\"marker\": \"x\"}, width=1.0, fliersize=10)"
   ]
  },
  {
   "cell_type": "code",
   "execution_count": 37,
   "metadata": {},
   "outputs": [],
   "source": [
    "# I write a function to get rid of the outlier values.\n",
    "def outlier_thresholds(dataframe, variable):\n",
    "    quartile1 = dataframe[variable].quantile(0.01)\n",
    "    quartile3 = dataframe[variable].quantile(0.99)\n",
    "    interquantile_range = quartile3 - quartile1\n",
    "    up_limit = quartile3 + 1.5 * interquantile_range\n",
    "    low_limit = quartile1 - 1.5 * interquantile_range\n",
    "    return low_limit, up_limit\n",
    "\n",
    "def replace_with_thresholds(dataframe, variable):\n",
    "    low_limit, up_limit = outlier_thresholds(dataframe, variable)\n",
    "    dataframe.loc[(dataframe[variable] > up_limit), variable] = up_limit"
   ]
  },
  {
   "cell_type": "code",
   "execution_count": 43,
   "metadata": {},
   "outputs": [],
   "source": [
    "replace_with_thresholds(df, \"sum_gamerounds\")"
   ]
  },
  {
   "cell_type": "code",
   "execution_count": 44,
   "metadata": {},
   "outputs": [
    {
     "data": {
      "text/plain": [
       "count    90189.000000\n",
       "mean        51.109221\n",
       "std         99.312282\n",
       "min          0.000000\n",
       "25%          5.000000\n",
       "50%         16.000000\n",
       "75%         51.000000\n",
       "max       1232.500000\n",
       "Name: sum_gamerounds, dtype: float64"
      ]
     },
     "execution_count": 44,
     "metadata": {},
     "output_type": "execute_result"
    }
   ],
   "source": [
    "#After  removing the outlier value\n",
    "df.sum_gamerounds.describe()"
   ]
  },
  {
   "cell_type": "code",
   "execution_count": 45,
   "metadata": {},
   "outputs": [
    {
     "data": {
      "image/png": "[encoded data removed]",
      "text/plain": [
       "<Figure size 432x288 with 1 Axes>"
      ]
     },
     "metadata": {
      "needs_background": "light"
     },
     "output_type": "display_data"
    }
   ],
   "source": [
    "#I saw more logical graph.\n",
    "sns.boxplot(data=df, x=\"version\", y=\"sum_gamerounds\", flierprops={\"marker\": \"x\"}, width=0.8, fliersize=10, showfliers=False);"
   ]
  },
  {
   "cell_type": "markdown",
   "metadata": {},
   "source": [
    "### A/B 테스팅\n",
    "\n",
    "#### 1. 가설 설정\n",
    "\n",
    "- H0: M1 = M2 \n",
    "- H1: M1 != M2\n",
    "\n",
    "이 경우에는,\n",
    "\n",
    "H0: M1 = M2 --- gate_30과 gate_40 사이에 통계적인 차이가 없다.\n",
    "\n",
    "H1: M1 != M2 --- gate_30과 gate_40 사이에 통계적인 차이가 있다.\n",
    "\n",
    "\n",
    "#### 2. 가정 검증\n",
    "\n",
    "- 정규성을 검정하기 전에 이상치 분석 및 보정을 수행하는 것이 도움이 될 수 있다.\n",
    "- 정규성 가정 (Shapiro Test)\n",
    "    - H0 : 분포는 정규분포이다.\n",
    "    - H1 : 분포는 정규분포가 아니다.\n",
    "- p-value 확인\n",
    "    - p-value < 0.05 : H0 기각\n",
    "    - p-value > 0.05 : H1 기각할 수 없음\n",
    "- 분산의 동질성 (Levene Test)\n",
    "    - H0 : 분산은 동질하다.\n",
    "    - H1 : 분산은 동질하지 않다.\n",
    "\n",
    "#### 3. 가설의 구현\n",
    "- 분포가 정규분포이며 분산이 동질할 경우: T-검정 (모수 검정) 적용\n",
    "- 분포가 정규분포이나 분산이 동질하지 않은 경우: Welch 검정 적용\n",
    "- 분포가 정규분포가 아닌 경우: Mann Whitney U 검정 바로 적용 (비모수 검정)\n",
    "\n",
    "\n",
    "#### 4. p-value를 기반으로 결과 해석 및 가설 평가\n",
    "\n",
    "- p-value < 0.05 : H0 기각\n",
    "- p-value > 0.05 : H1 기각할 수 없음\n"
   ]
  },
  {
   "cell_type": "markdown",
   "metadata": {},
   "source": [
    "#### Shapiro-Wilk Test\n",
    "\n",
    "**Shapiro-Wilk Test (샤피로-윌크 검정)**는 주어진 데이터 집합이 얼마나 잘 정규 분포를 따르는지를 확인하는 통계적 방법입니다. 이 검정은 특히 작은 표본 크기의 데이터셋에서 높은 검정력을 보이며, 데이터의 정규성을 평가하는데 많이 사용됩니다.\n",
    "\n",
    "Shapiro-Wilk 검정의 귀무 가설과 대립 가설은 다음과 같습니다:\n",
    "\n",
    "- H0 : 데이터는 정규 분포를 따른다.\n",
    "- H1 : 데이터는 정규 분포를 따르지 않는다.\n",
    "\n",
    "검정의 결과로 나온 p-value 값을 기반으로 귀무 가설을 기각할지 결정합니다:\n",
    "\n",
    "- p-value < 0.05: 대부분의 경우에, 귀무 가설을 기각하게 되며, 이는 데이터가 정규 분포를 따르지 않는다는 것을 나타냅니다.\n",
    "- p-value ≥ 0.05: 귀무 가설을 기각할 충분한 증거가 없으므로, 데이터가 정규 분포를 따를 수 있다고 판단합니다."
   ]
  },
  {
   "cell_type": "markdown",
   "metadata": {},
   "source": [
    "#### Levene 검정\n",
    "Levene 검정은 두 개 이상의 그룹 간의 분산 동질성을 검정하기 위해 사용되는 통계적 방법입니다. 분산의 동질성은 많은 통계적 방법들, 특히 ANOVA(분산 분석)나 t-검정과 같은 모수적 방법을 적용할 때 중요한 가정 중 하나입니다.\n",
    "\n",
    "Levene 검정의 귀무 가설과 대립 가설은 다음과 같습니다:\n",
    "\n",
    "- H0 : 모든 그룹의 분산은 동일하다 (분산 동질성이 있다).\n",
    "- H1 : 적어도 한 그룹의 분산이 다른 그룹과 다르다 (분산 동질성이 없다).\n",
    "\n",
    "검정의 결과로 나온 p-value 값을 기반으로 귀무 가설을 기각할지 결정합니다:\n",
    "\n",
    "- p-value < 0.05: 대부분의 경우에, 귀무 가설을 기각하게 되며, 이는 그룹 간에 분산 동질성이 없다는 것을 나타냅니다.\n",
    "- p-value ≥ 0.05: 귀무 가설을 기각할 충분한 증거가 없으므로, 그룹 간에 분산이 동질하다고 판단합니다.\n",
    "\n",
    "Levene 검정은 특히 그룹 간의 분산 차이가 크지 않을 때도 높은 검정력을 보이는 특징이 있습니다.\n",
    "다만, Levene 검정 외에도 Bartlett 검정과 같은 다른 분산 동질성 검정 방법들도 있으므로, 분석의 목적과 데이터의 특성에 따라 적절한 검정 방법을 선택하는 것이 중요합니다."
   ]
  },
  {
   "cell_type": "code",
   "execution_count": 49,
   "metadata": {},
   "outputs": [
    {
     "name": "stdout",
     "output_type": "stream",
     "text": [
      "        sum_gamerounds           \n",
      "                 count       mean\n",
      "version                          \n",
      "gate_30          44700  51.153423\n",
      "gate_40          45489  51.065785\n",
      "********************NORMAL DISTRIBUTION ASSUMPTION********************\n",
      "p-value_gate30 = 0.00000\n",
      "p-value_gate40 = 0.00000\n",
      "Normality H0 is rejected.\n",
      "\n",
      "\n",
      "*******************VARIANCE HOMOGENEOUS ASSUMPTION *******************\n",
      "p_value_levene = 0.83018\n",
      "Variance Homogeneity H0 is not rejected.\n",
      "\n",
      "Non-Parametric test should be done.\n",
      "\n",
      "\n",
      "p_value = 0.05021\n",
      "******************************* RESULT *******************************\n",
      "p-value > 0.05 H0 is Not Rejected, That is, there is no statistically significant difference between them. The difference was made by chance.\n"
     ]
    }
   ],
   "source": [
    "def AB_Test(df, pthres=0.05):\n",
    "    \n",
    "    # H0:  There is no statistical difference between the gate_30 and the gate_40.\n",
    "    \n",
    "    print(df.groupby('version').agg({\"sum_gamerounds\": [\"count\", \"mean\"]}))\n",
    "\n",
    "    print(\"NORMAL DISTRIBUTION ASSUMPTION\" .center(70,\"*\"))\n",
    "    \n",
    "    # H0 : The compared groups have a normal distribution\n",
    "    \n",
    "    pvalue_gate_30 = shapiro([df[\"version\"] == \"gate_30\"])[1]\n",
    "    pvalue_gate_40 = shapiro([df[\"version\"] == \"gate_40\"])[1]\n",
    "    \n",
    "    print('p-value_gate30 = %.5f' % (pvalue_gate_30))\n",
    "    print('p-value_gate40 = %.5f' % (pvalue_gate_40))\n",
    "\n",
    "    if (pvalue_gate_30 < pthres) & (pvalue_gate_40 < pthres):\n",
    "        print(\"Normality H0 is rejected.\\n\\n\")\n",
    "    else:\n",
    "        print(\"Normality H0 is not rejected.\\n\")\n",
    "\n",
    "    print(\"VARIANCE HOMOGENEOUS ASSUMPTION \".center(70,\"*\"))\n",
    "    \n",
    "    # H0 : The variance of compared groups is homegenous.\n",
    "    \n",
    "    p_value_levene = levene(df.loc[df[\"version\"] == \"gate_30\", \"sum_gamerounds\"],\n",
    "                            df.loc[df[\"version\"] == \"gate_40\", \"sum_gamerounds\"])[1]\n",
    "    \n",
    "    print('p_value_levene = %.5f' % p_value_levene)\n",
    "\n",
    "    if p_value_levene < pthres:\n",
    "        print(\"Variance Homogeneity H0 is rejected.\\n\")\n",
    "    else:\n",
    "        print(\"Variance Homogeneity H0 is not rejected.\\n\")\n",
    "\n",
    "    if ((pvalue_gate_30 > pthres) & (pvalue_gate_40 > pthres)) & (p_value_levene > pthres):\n",
    "        p_value_ttest = ttest_ind(df.loc[df[\"version\"] == \"gate_30\"],\n",
    "                                  df.loc[df[\"version\"] == \"gate_40\"],\n",
    "                                  equal_var=True)[1]\n",
    "        \n",
    "        print('p_value_ttest = %.5f' % p_value_ttest)\n",
    "\n",
    "    elif ((pvalue_gate_30 > pthres) & (pvalue_gate_40 > pthres)) & (p_value_levene < pthres):\n",
    "        p_value_ttest = ttest_ind(df.loc[df[\"version\"] == \"gate_30\"],\n",
    "                                  df.loc[df[\"version\"] == \"gate_40\"],\n",
    "                                  equal_var=False)[1]\n",
    "        \n",
    "        print('p_value_ttest = %.5f' % p_value_ttest)\n",
    "    else:\n",
    "        print(\"Non-Parametric test should be done.\\n\\n\")\n",
    "        pvalue = mannwhitneyu(df.loc[df[\"version\"] == \"gate_30\", \"sum_gamerounds\"],\n",
    "                              df.loc[df[\"version\"] == \"gate_40\", \"sum_gamerounds\"])[1]\n",
    "        \n",
    "        print('p_value = %.5f' % pvalue)\n",
    "\n",
    "    print(\" RESULT \".center(70,\"*\"))\n",
    "\n",
    "    if pvalue < pthres:\n",
    "        print(\n",
    "            f\"p-value {round(pvalue, 5)} < 0.05  H0 Hypothesis is Rejected. That is, there is a statistically significant difference between them.\")\n",
    "\n",
    "    else:\n",
    "        print(\n",
    "            f\"p-value > {pthres} H0 is Not Rejected, That is, there is no statistically significant difference between them. The difference was made by chance.\")\n",
    "\n",
    "AB_Test(df,0.05)"
   ]
  },
  {
   "cell_type": "code",
   "execution_count": null,
   "metadata": {},
   "outputs": [],
   "source": []
  }
 ],
 "metadata": {
  "hide_input": false,
  "kernelspec": {
   "display_name": "Python 3",
   "language": "python",
   "name": "python3"
  },
  "language_info": {
   "codemirror_mode": {
    "name": "ipython",
    "version": 3
   },
   "file_extension": ".py",
   "mimetype": "text/x-python",
   "name": "python",
   "nbconvert_exporter": "python",
   "pygments_lexer": "ipython3",
   "version": "3.8.5"
  }
 },
 "nbformat": 4,
 "nbformat_minor": 5
}

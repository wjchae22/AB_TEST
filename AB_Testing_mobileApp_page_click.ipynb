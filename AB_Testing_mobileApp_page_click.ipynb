{
 "cells": [
  {
   "cell_type": "code",
   "execution_count": 64,
   "metadata": {},
   "outputs": [
    {
     "data": {
      "text/html": [
       "<div>\n",
       "<style scoped>\n",
       "    .dataframe tbody tr th:only-of-type {\n",
       "        vertical-align: middle;\n",
       "    }\n",
       "\n",
       "    .dataframe tbody tr th {\n",
       "        vertical-align: top;\n",
       "    }\n",
       "\n",
       "    .dataframe thead th {\n",
       "        text-align: right;\n",
       "    }\n",
       "</style>\n",
       "<table border=\"1\" class=\"dataframe\">\n",
       "  <thead>\n",
       "    <tr style=\"text-align: right;\">\n",
       "      <th></th>\n",
       "      <th>user_id</th>\n",
       "      <th>timestamp</th>\n",
       "      <th>group</th>\n",
       "      <th>landing_page</th>\n",
       "      <th>converted</th>\n",
       "    </tr>\n",
       "  </thead>\n",
       "  <tbody>\n",
       "    <tr>\n",
       "      <th>0</th>\n",
       "      <td>851104</td>\n",
       "      <td>2017-01-21 22:11:48.556739</td>\n",
       "      <td>control</td>\n",
       "      <td>old_page</td>\n",
       "      <td>0</td>\n",
       "    </tr>\n",
       "    <tr>\n",
       "      <th>1</th>\n",
       "      <td>804228</td>\n",
       "      <td>2017-01-12 08:01:45.159739</td>\n",
       "      <td>control</td>\n",
       "      <td>old_page</td>\n",
       "      <td>0</td>\n",
       "    </tr>\n",
       "    <tr>\n",
       "      <th>2</th>\n",
       "      <td>661590</td>\n",
       "      <td>2017-01-11 16:55:06.154213</td>\n",
       "      <td>treatment</td>\n",
       "      <td>new_page</td>\n",
       "      <td>0</td>\n",
       "    </tr>\n",
       "    <tr>\n",
       "      <th>3</th>\n",
       "      <td>853541</td>\n",
       "      <td>2017-01-08 18:28:03.143765</td>\n",
       "      <td>treatment</td>\n",
       "      <td>new_page</td>\n",
       "      <td>0</td>\n",
       "    </tr>\n",
       "    <tr>\n",
       "      <th>4</th>\n",
       "      <td>864975</td>\n",
       "      <td>2017-01-21 01:52:26.210827</td>\n",
       "      <td>control</td>\n",
       "      <td>old_page</td>\n",
       "      <td>1</td>\n",
       "    </tr>\n",
       "  </tbody>\n",
       "</table>\n",
       "</div>"
      ],
      "text/plain": [
       "   user_id                   timestamp      group landing_page  converted\n",
       "0   851104  2017-01-21 22:11:48.556739    control     old_page          0\n",
       "1   804228  2017-01-12 08:01:45.159739    control     old_page          0\n",
       "2   661590  2017-01-11 16:55:06.154213  treatment     new_page          0\n",
       "3   853541  2017-01-08 18:28:03.143765  treatment     new_page          0\n",
       "4   864975  2017-01-21 01:52:26.210827    control     old_page          1"
      ]
     },
     "execution_count": 64,
     "metadata": {},
     "output_type": "execute_result"
    }
   ],
   "source": [
    "import numpy as np\n",
    "import pandas as pd\n",
    "import scipy.stats as stats\n",
    "import statsmodels.stats.api as sms\n",
    "import seaborn as sns\n",
    "from math import ceil\n",
    "\n",
    "# Load dataset\n",
    "df = pd.read_csv('ab_data.csv')\n",
    "df.head()\n",
    "\n",
    "#converted - 고객이 해당창에서 멈추지 않고 다음 창으로 잘 넘어갔는가? -> 유입여부"
   ]
  },
  {
   "cell_type": "markdown",
   "metadata": {},
   "source": [
    "#### 컬럼 설명.\n",
    "1. user_id : 유저ID\n",
    "2. timestamp : 접속시간\n",
    "3. group : 그룹\n",
    "4. landing_page : 유저들의 랜딩 페이지 (old or new)\n",
    "5. converted : 전환여부 (0 or 1)"
   ]
  },
  {
   "cell_type": "code",
   "execution_count": 65,
   "metadata": {},
   "outputs": [],
   "source": [
    "# 두 번 등장한 유저는 거르기\n",
    "# Users with multiple session counts\n",
    "session_counts = df['user_id'].value_counts(ascending = False)\n",
    "multi_users = session_counts[session_counts > 1].count()\n",
    "\n",
    "# dropping with multiple session counts\n",
    "users_to_drop = session_counts[session_counts > 1].index\n",
    "\n",
    "df = df[~ df['user_id'].isin(users_to_drop)]"
   ]
  },
  {
   "cell_type": "code",
   "execution_count": 66,
   "metadata": {},
   "outputs": [
    {
     "data": {
      "text/html": [
       "<div>\n",
       "<style scoped>\n",
       "    .dataframe tbody tr th:only-of-type {\n",
       "        vertical-align: middle;\n",
       "    }\n",
       "\n",
       "    .dataframe tbody tr th {\n",
       "        vertical-align: top;\n",
       "    }\n",
       "\n",
       "    .dataframe thead th {\n",
       "        text-align: right;\n",
       "    }\n",
       "</style>\n",
       "<table border=\"1\" class=\"dataframe\">\n",
       "  <thead>\n",
       "    <tr style=\"text-align: right;\">\n",
       "      <th>landing_page</th>\n",
       "      <th>new_page</th>\n",
       "      <th>old_page</th>\n",
       "    </tr>\n",
       "    <tr>\n",
       "      <th>group</th>\n",
       "      <th></th>\n",
       "      <th></th>\n",
       "    </tr>\n",
       "  </thead>\n",
       "  <tbody>\n",
       "    <tr>\n",
       "      <th>control</th>\n",
       "      <td>0</td>\n",
       "      <td>143293</td>\n",
       "    </tr>\n",
       "    <tr>\n",
       "      <th>treatment</th>\n",
       "      <td>143397</td>\n",
       "      <td>0</td>\n",
       "    </tr>\n",
       "  </tbody>\n",
       "</table>\n",
       "</div>"
      ],
      "text/plain": [
       "landing_page  new_page  old_page\n",
       "group                           \n",
       "control              0    143293\n",
       "treatment       143397         0"
      ]
     },
     "execution_count": 66,
     "metadata": {},
     "output_type": "execute_result"
    }
   ],
   "source": [
    "pd.crosstab(df['group'], df['landing_page'])"
   ]
  },
  {
   "cell_type": "code",
   "execution_count": 67,
   "metadata": {},
   "outputs": [
    {
     "data": {
      "text/html": [
       "<div>\n",
       "<style scoped>\n",
       "    .dataframe tbody tr th:only-of-type {\n",
       "        vertical-align: middle;\n",
       "    }\n",
       "\n",
       "    .dataframe tbody tr th {\n",
       "        vertical-align: top;\n",
       "    }\n",
       "\n",
       "    .dataframe thead th {\n",
       "        text-align: right;\n",
       "    }\n",
       "</style>\n",
       "<table border=\"1\" class=\"dataframe\">\n",
       "  <thead>\n",
       "    <tr style=\"text-align: right;\">\n",
       "      <th></th>\n",
       "      <th>conversion_rate</th>\n",
       "      <th>std_deviation</th>\n",
       "      <th>std_error</th>\n",
       "    </tr>\n",
       "    <tr>\n",
       "      <th>group</th>\n",
       "      <th></th>\n",
       "      <th></th>\n",
       "      <th></th>\n",
       "    </tr>\n",
       "  </thead>\n",
       "  <tbody>\n",
       "    <tr>\n",
       "      <th>control</th>\n",
       "      <td>0.1144</td>\n",
       "      <td>0.318296</td>\n",
       "      <td>0.004501</td>\n",
       "    </tr>\n",
       "    <tr>\n",
       "      <th>treatment</th>\n",
       "      <td>0.1218</td>\n",
       "      <td>0.327055</td>\n",
       "      <td>0.004625</td>\n",
       "    </tr>\n",
       "  </tbody>\n",
       "</table>\n",
       "</div>"
      ],
      "text/plain": [
       "           conversion_rate  std_deviation  std_error\n",
       "group                                               \n",
       "control             0.1144       0.318296   0.004501\n",
       "treatment           0.1218       0.327055   0.004625"
      ]
     },
     "execution_count": 67,
     "metadata": {},
     "output_type": "execute_result"
    }
   ],
   "source": [
    "# Sample control and treatment group\n",
    "control_sample = df[df['group'] == 'control'].sample(n = 5000, random_state = 12) #sample 함수 -> pandas 내장 함수\n",
    "treatment_sample = df[df['group'] == 'treatment'].sample(n = 5000, random_state = 12)\n",
    "ab_test = pd.concat([control_sample, treatment_sample], axis=0)\n",
    "ab_test.reset_index(drop=True, inplace=True)\n",
    "\n",
    "# Define functions for standard deviation and standard error\n",
    "std_dev = lambda x : np.std(x, ddof = 0) \n",
    "std_error = lambda x : stats.sem(x, ddof = 0)\n",
    "conversion_rate = ab_test.groupby('group')['converted'].agg([np.mean, std_dev, std_error])\n",
    "conversion_rate.columns = ['conversion_rate', 'std_deviation', 'std_error']\n",
    "conversion_rate"
   ]
  },
  {
   "cell_type": "markdown",
   "metadata": {},
   "source": [
    "#### 5000개의 샘플 수를 통해 통계적 유의성 확인\n",
    "- 그룹 A: control -> 랜딩페이지: old_page\n",
    "- 그룹 B: treatment -> 랜딩페이지: new_page"
   ]
  },
  {
   "cell_type": "markdown",
   "metadata": {},
   "source": [
    "**std_dev 함수:**\n",
    "\n",
    "이 함수는 주어진 리스트나 배열 x에 대해 표준 편차(standard deviation)를 계산합니다.\n",
    "np.std는 NumPy의 표준 편차를 계산하는 함수입니다.\n",
    "ddof=0은 \"delta degrees of freedom\"의 약자로, 표준 편차를 계산할 때 N에서 빼는 값입니다. 여기서는 0을 빼므로, 전체 데이터의 개수 N으로 나누게 됩니다.\n",
    "\n",
    "**std_error 함수:**\n",
    "\n",
    "이 함수는 주어진 리스트나 배열 x에 대해 표준 오차(standard error)를 계산합니다.\n",
    "stats.sem은 scipy의 stats 모듈에 있는 표준 오차를 계산하는 함수입니다.\n",
    "마찬가지로 ddof=0는 \"delta degrees of freedom\"의 약자로, 여기서는 0을 사용해 전체 데이터의 개수 N으로 나누게 됩니다.\n",
    "\n",
    "**<u>표준 오차는 표본 평균의 표준 편차를 의미하며, 통계적 추론에서 중요한 역할을 합니다. 표준 오차가 작으면 표본 평균이 모평균에 가까울 가능성이 높다는 것을 나타냅니다.</u>**"
   ]
  },
  {
   "cell_type": "code",
   "execution_count": 68,
   "metadata": {},
   "outputs": [
    {
     "name": "stdout",
     "output_type": "stream",
     "text": [
      "Z Statistic - -1.15\n",
      "P-Value - 0.252\n",
      "CI 95% for control group - [0.106, 0.123]\n",
      "CI 95% for treatment group - [0.113, 0.131]\n"
     ]
    }
   ],
   "source": [
    "#xtest와 ttest에 큰 차이는 없으나 평균과 분산에 대한 이해가 있는 경우는 ttest사용, 정확도가 더 높게 나옴 \n",
    "from statsmodels.stats.proportion import proportions_ztest, proportion_confint\n",
    "\n",
    "control_results = ab_test[ab_test['group'] == 'control']['converted']\n",
    "treatment_results = ab_test[ab_test['group'] == 'treatment']['converted']\n",
    "\n",
    "\n",
    "num_control = control_results.count()\n",
    "num_treatment = treatment_results.count()\n",
    "successes = [control_results.sum(), treatment_results.sum()]\n",
    "nobs = [num_control, num_treatment]\n",
    "\n",
    "z_stat, pval = proportions_ztest(successes, nobs = nobs)\n",
    "#proportion_conflict - 신뢰구간을 측정하는 구간 \n",
    "(lower_con, lower_treat), (upper_con, upper_treat) = proportion_confint(successes, nobs=nobs, alpha=0.05) # alpha값은 신뢰수준을 의미\n",
    "\n",
    "print(f'Z Statistic - {z_stat:.2f}')\n",
    "print(f'P-Value - {pval:.3f}')\n",
    "print(f'CI 95% for control group - [{lower_con:.3f}, {upper_con:.3f}]')\n",
    "print(f'CI 95% for treatment group - [{lower_treat:.3f}, {upper_treat:.3f}]')"
   ]
  },
  {
   "cell_type": "markdown",
   "metadata": {},
   "source": [
    "코드의 해석:\n",
    "\n",
    "- 데이터셋 ab_test에서 control 그룹과 treatment 그룹의 전환 결과를 분리합니다.\n",
    "- 각 그룹의 총 관측 수와 성공적인 전환 수를 계산합니다.\n",
    "- proportions_ztest를 사용하여 두 그룹의 전환율이 통계적으로 다른지 평가합니다. 결과로 z-통계량과 p-값을 얻습니다.\n",
    "- proportion_confint를 사용하여 각 그룹에 대한 95% 신뢰구간을 계산합니다.\n",
    "- 마지막으로, 통계량, p-값, 그리고 두 그룹의 95% 신뢰구간을 출력합니다.\n",
    "\n",
    "**<u>결과적으로, 이 코드는 A/B 테스트에서 control 그룹과 treatment 그룹의 전환율 차이가 통계적으로 유의미한지를 평가하고, 각 그룹에 대한 전환율의 신뢰구간을 제공합니다.**</u>"
   ]
  },
  {
   "cell_type": "markdown",
   "metadata": {},
   "source": [
    " "
   ]
  },
  {
   "cell_type": "markdown",
   "metadata": {},
   "source": [
    "### 보시 다시피 A/B 테스트 결과의 p-값은 0.252 입니다 . 유의 수준을 0.05로 설정하면 이 p-값에서 귀무 가설을 기각할 수 없습니다 . 이는 관찰된 결과가 무작위적인 우연에 의해 발생했다는 의미이며, 치료군의 랜딩 페이지가 더 잘 작동한다고 말하기에는 통계적으로 유의미하지 않습니다."
   ]
  },
  {
   "cell_type": "code",
   "execution_count": null,
   "metadata": {},
   "outputs": [],
   "source": []
  }
 ],
 "metadata": {
  "hide_input": false,
  "kernelspec": {
   "display_name": "Python 3",
   "language": "python",
   "name": "python3"
  },
  "language_info": {
   "codemirror_mode": {
    "name": "ipython",
    "version": 3
   },
   "file_extension": ".py",
   "mimetype": "text/x-python",
   "name": "python",
   "nbconvert_exporter": "python",
   "pygments_lexer": "ipython3",
   "version": "3.8.5"
  }
 },
 "nbformat": 4,
 "nbformat_minor": 5
}
